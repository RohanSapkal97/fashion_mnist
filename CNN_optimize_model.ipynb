{
 "cells": [
  {
   "cell_type": "markdown",
   "id": "9f171600",
   "metadata": {},
   "source": [
    "###Created CNN model and optimize it using Keras Tuner"
   ]
  },
  {
   "cell_type": "code",
   "execution_count": 1,
   "id": "ac653b05",
   "metadata": {},
   "outputs": [],
   "source": [
    "import tensorflow as tf\n",
    "from tensorflow import keras\n",
    "import numpy as np"
   ]
  },
  {
   "cell_type": "code",
   "execution_count": 2,
   "id": "c228e73f",
   "metadata": {},
   "outputs": [],
   "source": [
    "fashion_mnist = keras.datasets.fashion_mnist"
   ]
  },
  {
   "cell_type": "code",
   "execution_count": 3,
   "id": "4afb3072",
   "metadata": {},
   "outputs": [
    {
     "name": "stdout",
     "output_type": "stream",
     "text": [
      "Downloading data from https://storage.googleapis.com/tensorflow/tf-keras-datasets/train-labels-idx1-ubyte.gz\n",
      "32768/29515 [=================================] - 0s 1us/step\n",
      "40960/29515 [=========================================] - 0s 0us/step\n",
      "Downloading data from https://storage.googleapis.com/tensorflow/tf-keras-datasets/train-images-idx3-ubyte.gz\n",
      "26427392/26421880 [==============================] - 9s 0us/step\n",
      "26435584/26421880 [==============================] - 9s 0us/step\n",
      "Downloading data from https://storage.googleapis.com/tensorflow/tf-keras-datasets/t10k-labels-idx1-ubyte.gz\n",
      "16384/5148 [===============================================================================================] - 0s 0s/step\n",
      "Downloading data from https://storage.googleapis.com/tensorflow/tf-keras-datasets/t10k-images-idx3-ubyte.gz\n",
      "4423680/4422102 [==============================] - 2s 0us/step\n",
      "4431872/4422102 [==============================] - 2s 0us/step\n"
     ]
    }
   ],
   "source": [
    "(train_images,train_labels),(test_images,test_labels) = fashion_mnist.load_data()"
   ]
  },
  {
   "cell_type": "code",
   "execution_count": 4,
   "id": "1e55c081",
   "metadata": {},
   "outputs": [],
   "source": [
    "#Scaling images to 0 and 1\n",
    "train_images = train_images/255.0\n",
    "test_images = test_images/255.0"
   ]
  },
  {
   "cell_type": "code",
   "execution_count": 5,
   "id": "83e4d254",
   "metadata": {},
   "outputs": [
    {
     "data": {
      "text/plain": [
       "(28, 28)"
      ]
     },
     "execution_count": 5,
     "metadata": {},
     "output_type": "execute_result"
    }
   ],
   "source": [
    "train_images[0].shape"
   ]
  },
  {
   "cell_type": "code",
   "execution_count": 6,
   "id": "e0a65328",
   "metadata": {},
   "outputs": [],
   "source": [
    "#Reshape the images\n",
    "train_images = train_images.reshape(len(train_images),28,28,1)\n",
    "test_images = test_images.reshape(len(test_images),28,28,1)"
   ]
  },
  {
   "cell_type": "code",
   "execution_count": 41,
   "id": "af2dd97e",
   "metadata": {},
   "outputs": [],
   "source": [
    "#creating funtion to build model.\n",
    "\n",
    "def build_model(hp):\n",
    "    model_cnn = keras.Sequential([\n",
    "        keras.layers.Conv2D(\n",
    "        filters = hp.Int('conv_1_filter',min_value=32, max_value=128, step=16),\n",
    "        kernel_size=hp.Choice('conv_1_kernel',values=[3,5]),\n",
    "        activation = 'relu',\n",
    "        input_shape=(28,28,1)\n",
    "        ),\n",
    "        keras.layers.Conv2D(\n",
    "        filters = hp.Int('conv_2_filter',min_value=32, max_value=64, step=16),\n",
    "        kernel_size=hp.Choice('conv_2_kernel',values=[3,5]),\n",
    "        activation = 'relu'),\n",
    "        keras.layers.Flatten(),\n",
    "        keras.layers.Dense(\n",
    "        units=hp.Int('dense_1_units', min_value=32, max_value=128, step=16),\n",
    "        activation='relu'),\n",
    "        keras.layers.Dense(10, activation='softmax')\n",
    "    ])\n",
    "    \n",
    "    model_cnn.compile(optimizer=keras.optimizers.Adam(hp.Choice('learning_rate', values=[1e-2, 1e-3])),\n",
    "                     loss = 'sparse_categorical_crossentropy',\n",
    "                     metrics = ['accuracy'])\n",
    "    \n",
    "    return model_cnn"
   ]
  },
  {
   "cell_type": "code",
   "execution_count": 34,
   "id": "c16f69e2",
   "metadata": {},
   "outputs": [],
   "source": [
    "from kerastuner import RandomSearch\n",
    "from kerastuner.engine.hyperparameters import HyperParameters"
   ]
  },
  {
   "cell_type": "code",
   "execution_count": 35,
   "id": "673b748b",
   "metadata": {},
   "outputs": [],
   "source": [
    "# creating function to search optimize parameters\n",
    "tuner_search = RandomSearch(build_model,\n",
    "                            objective='val_accuracy',\n",
    "                            max_trials=5,\n",
    "                            directory='output',\n",
    "                            project_name='Mnist Fashion')"
   ]
  },
  {
   "cell_type": "code",
   "execution_count": 36,
   "id": "12300ba9",
   "metadata": {},
   "outputs": [
    {
     "name": "stdout",
     "output_type": "stream",
     "text": [
      "Trial 5 Complete [00h 04m 20s]\n",
      "val_accuracy: 0.8479999899864197\n",
      "\n",
      "Best val_accuracy So Far: 0.9072499871253967\n",
      "Total elapsed time: 00h 24m 25s\n",
      "INFO:tensorflow:Oracle triggered exit\n"
     ]
    }
   ],
   "source": [
    "# running search function to find best parameters\n",
    "tuner_search.search(train_images,train_labels,epochs=3,validation_split=0.2)"
   ]
  },
  {
   "cell_type": "code",
   "execution_count": 43,
   "id": "ddf0c039",
   "metadata": {},
   "outputs": [],
   "source": [
    "model_cnn = tuner_search.get_best_models(num_models=1)[0]"
   ]
  },
  {
   "cell_type": "code",
   "execution_count": 44,
   "id": "7ceba33a",
   "metadata": {},
   "outputs": [
    {
     "name": "stdout",
     "output_type": "stream",
     "text": [
      "Epoch 4/10\n",
      "1500/1500 [==============================] - 87s 58ms/step - loss: 0.1410 - accuracy: 0.9474 - val_loss: 0.2563 - val_accuracy: 0.9133\n",
      "Epoch 5/10\n",
      "1500/1500 [==============================] - 88s 59ms/step - loss: 0.0991 - accuracy: 0.9630 - val_loss: 0.3165 - val_accuracy: 0.9131\n",
      "Epoch 6/10\n",
      "1500/1500 [==============================] - 92s 61ms/step - loss: 0.0706 - accuracy: 0.9736 - val_loss: 0.3473 - val_accuracy: 0.9082\n",
      "Epoch 7/10\n",
      "1500/1500 [==============================] - 90s 60ms/step - loss: 0.0487 - accuracy: 0.9824 - val_loss: 0.4062 - val_accuracy: 0.9084\n",
      "Epoch 8/10\n",
      "1500/1500 [==============================] - 89s 59ms/step - loss: 0.0366 - accuracy: 0.9869 - val_loss: 0.4362 - val_accuracy: 0.9119\n",
      "Epoch 9/10\n",
      "1500/1500 [==============================] - 91s 61ms/step - loss: 0.0316 - accuracy: 0.9888 - val_loss: 0.4931 - val_accuracy: 0.9048\n",
      "Epoch 10/10\n",
      "1500/1500 [==============================] - 90s 60ms/step - loss: 0.0269 - accuracy: 0.9903 - val_loss: 0.5679 - val_accuracy: 0.9149\n"
     ]
    },
    {
     "data": {
      "text/plain": [
       "<keras.callbacks.History at 0x25c261c0dc0>"
      ]
     },
     "execution_count": 44,
     "metadata": {},
     "output_type": "execute_result"
    }
   ],
   "source": [
    "model_cnn.fit(train_images,train_labels,epochs=10,validation_split=0.2,initial_epoch=3)"
   ]
  },
  {
   "cell_type": "code",
   "execution_count": 45,
   "id": "4614eb50",
   "metadata": {},
   "outputs": [],
   "source": [
    "from tensorflow.keras.models import load_model\n",
    "\n",
    "model_cnn.save('CNN_kerastuner.h5')"
   ]
  },
  {
   "cell_type": "code",
   "execution_count": null,
   "id": "f0e03ff4",
   "metadata": {},
   "outputs": [],
   "source": []
  }
 ],
 "metadata": {
  "kernelspec": {
   "display_name": "Python 3",
   "language": "python",
   "name": "python3"
  },
  "language_info": {
   "codemirror_mode": {
    "name": "ipython",
    "version": 3
   },
   "file_extension": ".py",
   "mimetype": "text/x-python",
   "name": "python",
   "nbconvert_exporter": "python",
   "pygments_lexer": "ipython3",
   "version": "3.8.8"
  }
 },
 "nbformat": 4,
 "nbformat_minor": 5
}
